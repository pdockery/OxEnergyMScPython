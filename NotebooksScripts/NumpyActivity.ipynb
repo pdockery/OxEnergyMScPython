{
 "cells": [
  {
   "cell_type": "markdown",
   "metadata": {},
   "source": [
    "# Numpy\n",
    "\n",
    "We will be learning about some basic programming and data analysis using Numpy and Pandas. First up - NumPy\n",
    "\n",
    "NumPy is the fundamental package for scientific computing in Python. It is used across many fields inc. Mathematics, Engineering, Finance, Data Science, Artificial Intelligence, Machine Learning etc. Most scientific computing libraries will build on NumPy.\n",
    "\n",
    "Numpy provides functions to work with N-dimensional arrays and an assortment of routines for fast operations on such arrays: matrix mathematics, logical, shape manipulation, statistical operations, random simulation etc."
   ]
  },
  {
   "cell_type": "markdown",
   "metadata": {},
   "source": [
    "## Basic Numpy tools\n",
    "\n",
    "<img src=\"https://matteding.github.io/images/broadcasting-3d-scalar.gif\" width=\"400\" height=\"400\" align=\"left\"/>\n"
   ]
  },
  {
   "cell_type": "markdown",
   "metadata": {},
   "source": [
    "Here, we will exam some fairly simple tools in Numpy for the management of data and doing basic statistics. First, lets make sure numpy is imported:\n"
   ]
  },
  {
   "cell_type": "code",
   "execution_count": 1,
   "metadata": {},
   "outputs": [],
   "source": [
    "import numpy as np"
   ]
  },
  {
   "cell_type": "markdown",
   "metadata": {},
   "source": [
    "### Array creation and Indexing\n",
    "\n",
    "In the cells below we will learn basic array creation and indexing\n"
   ]
  },
  {
   "cell_type": "code",
   "execution_count": 2,
   "metadata": {},
   "outputs": [
    {
     "name": "stdout",
     "output_type": "stream",
     "text": [
      "Numpy Array 'a':\n",
      "\n",
      "<class 'numpy.ndarray'>\n",
      "(3,)\n",
      "1 2 3\n",
      "[5 2 3] \n",
      "\n",
      "Numpy Array 'b':\n",
      "\n",
      "(2, 3)\n",
      "[[1 2 3]\n",
      " [4 5 6]]\n",
      "1 2 4\n"
     ]
    }
   ],
   "source": [
    "a = np.array([1, 2, 3])            # Create a simple array\n",
    "print(\"Numpy Array 'a':\\n\")\n",
    "print(type(a))                     # Prints type as recognised by Python\n",
    "print(a.shape)                     # Prints its shape\n",
    "print(a[0], a[1], a[2])            # Prints certain indexed values\n",
    "a[0] = 5                           # Change an element of the array\n",
    "print(a,\"\\n\")                   \n",
    "\n",
    "\n",
    "print(\"Numpy Array 'b':\\n\")\n",
    "b = np.array([[1,2,3],[4,5,6]])    # Create an array with more 'complexity'\n",
    "print(b.shape)\n",
    "print(b)                     \n",
    "print(b[0, 0], b[0, 1], b[1, 0])  \n"
   ]
  },
  {
   "cell_type": "markdown",
   "metadata": {},
   "source": [
    "### Array manipulation and mathematics\n",
    "Where numpy gets really powerful is its efficiency in array manipulation and mathematics."
   ]
  },
  {
   "cell_type": "code",
   "execution_count": 3,
   "metadata": {},
   "outputs": [
    {
     "name": "stdout",
     "output_type": "stream",
     "text": [
      "[[ 6  8]\n",
      " [10 12]] \n",
      "\n",
      "[[ 5 12]\n",
      " [21 32]] \n",
      "\n",
      "[[1.         1.41421356]\n",
      " [1.73205081 2.        ]] \n",
      "\n",
      "[[19 22]\n",
      " [43 50]] \n",
      "\n",
      "[-4 -4] \n",
      "\n"
     ]
    },
    {
     "name": "stderr",
     "output_type": "stream",
     "text": [
      "/var/folders/qd/jm_fm64927g3y1crrgxmb0g80000gn/T/ipykernel_78238/15743206.py:10: DeprecationWarning: Arrays of 2-dimensional vectors are deprecated. Use arrays of 3-dimensional vectors instead. (deprecated in NumPy 2.0)\n",
      "  print(np.cross(x, y),'\\n')\n"
     ]
    }
   ],
   "source": [
    "\n",
    "x = np.array([[1,2],[3,4]])\n",
    "y = np.array([[5,6],[7,8]])\n",
    "\n",
    "print(x + y,'\\n')\n",
    "print(x * y,'\\n') \n",
    "\n",
    "# numpy has many mathematical functions built in - accessed via dot notation\n",
    "print(np.sqrt(x),'\\n')\n",
    "print(np.dot(x, y),'\\n')\n",
    "print(np.cross(x, y),'\\n')"
   ]
  },
  {
   "cell_type": "markdown",
   "metadata": {},
   "source": [
    "Numpy also provides aggregation methods."
   ]
  },
  {
   "cell_type": "code",
   "execution_count": 4,
   "metadata": {},
   "outputs": [
    {
     "name": "stdout",
     "output_type": "stream",
     "text": [
      "10\n",
      "[5.5 7.5]\n"
     ]
    }
   ],
   "source": [
    "print(x.sum())  # sum over the entire matrix\n",
    "print(y.mean(axis=1))  # mean of each row"
   ]
  },
  {
   "cell_type": "markdown",
   "metadata": {},
   "source": [
    "## Activity\n",
    "Your turn... <br>\n",
    "Add comments that explain what your code is doing"
   ]
  },
  {
   "cell_type": "markdown",
   "metadata": {},
   "source": [
    "#### 1) Create the following 3 x 4 array and call it 'c'\n",
    "\n",
    "[[ 1  2  3  4] <br>\n",
    " [ 5  6  7  8] <br>\n",
    " [ 9 10 11 12]] <br>"
   ]
  },
  {
   "cell_type": "code",
   "execution_count": null,
   "metadata": {},
   "outputs": [
    {
     "data": {
      "text/plain": [
       "array([[ 1,  2,  3,  4],\n",
       "       [ 5,  6,  7,  8],\n",
       "       [ 9, 10, 11, 12]])"
      ]
     },
     "execution_count": 8,
     "metadata": {},
     "output_type": "execute_result"
    }
   ],
   "source": [
    "# Create the following 3 x 4 array and call it 'c':\n",
    "c = np.array([[1,2,3,4],[5,6,7,8],[9,10,11,12]]) #use the numpy array function to define the array\n",
    "c # printing array so i can inspect it"
   ]
  },
  {
   "cell_type": "markdown",
   "metadata": {},
   "source": [
    "#### 2) Print all values in rows 2 & 3"
   ]
  },
  {
   "cell_type": "code",
   "execution_count": 39,
   "metadata": {},
   "outputs": [
    {
     "name": "stdout",
     "output_type": "stream",
     "text": [
      "Numpy rows 2 # 3 in 'c' \n",
      "\n",
      "print row 2 \n",
      "\n",
      "[5 6 7 8]\n",
      "Print row 3 \n",
      "\n",
      "[ 9 10 11 12]\n",
      "[[ 5  6  7  8]\n",
      " [ 9 10 11 12]]\n"
     ]
    }
   ],
   "source": [
    "# Print all values in rows 2 & 3\n",
    "print(\"Numpy rows 2 # 3 in 'c' \\n\")\n",
    "print(\"print row 2 \\n\")\n",
    "print(c[1])\n",
    "print(\"Print row 3 \\n\")\n",
    "print(c[2])\n",
    "print(c[1:3,:]) # this is using a slicing operation on the matrix instead of posting it separately"
   ]
  },
  {
   "cell_type": "markdown",
   "metadata": {},
   "source": [
    "#### 3) Print the values in the 2nd row and in cols 1 & 3"
   ]
  },
  {
   "cell_type": "code",
   "execution_count": 22,
   "metadata": {},
   "outputs": [
    {
     "name": "stdout",
     "output_type": "stream",
     "text": [
      "2nd row column 1\n",
      "5\n",
      "2nd row column 3\n",
      "7\n"
     ]
    }
   ],
   "source": [
    "# Print the values in the 2nd row and in cols 1 & 3\n",
    "print(\"2nd row column 1\")\n",
    "print(c[1,0])\n",
    "print(\"2nd row column 3\")\n",
    "print(c[1,2])"
   ]
  },
  {
   "cell_type": "markdown",
   "metadata": {},
   "source": [
    "#### 4) Perform a scalar multiplication of c with 4"
   ]
  },
  {
   "cell_type": "code",
   "execution_count": 23,
   "metadata": {},
   "outputs": [
    {
     "name": "stdout",
     "output_type": "stream",
     "text": [
      "[[ 4  8 12 16]\n",
      " [20 24 28 32]\n",
      " [36 40 44 48]]\n"
     ]
    }
   ],
   "source": [
    "# Perform a scalar multiplication of c with 4\n",
    "scalr_mul = np.multiply(c,4)\n",
    "print(scalr_mul)"
   ]
  },
  {
   "cell_type": "markdown",
   "metadata": {},
   "source": [
    "#### 5) Transpose c"
   ]
  },
  {
   "cell_type": "code",
   "execution_count": 25,
   "metadata": {},
   "outputs": [
    {
     "name": "stdout",
     "output_type": "stream",
     "text": [
      "[[ 1  5  9]\n",
      " [ 2  6 10]\n",
      " [ 3  7 11]\n",
      " [ 4  8 12]]\n"
     ]
    }
   ],
   "source": [
    "# Transpose c\n",
    "transpose_c = np.transpose(c)\n",
    "print(transpose_c)"
   ]
  },
  {
   "cell_type": "markdown",
   "metadata": {},
   "source": [
    "#### 6) Reshape c to a 4 x 3 array\n",
    "What is the difference between the transpose and reshape operations?"
   ]
  },
  {
   "cell_type": "code",
   "execution_count": 26,
   "metadata": {},
   "outputs": [
    {
     "name": "stdout",
     "output_type": "stream",
     "text": [
      "[[ 1  2  3]\n",
      " [ 4  5  6]\n",
      " [ 7  8  9]\n",
      " [10 11 12]]\n"
     ]
    }
   ],
   "source": [
    "# Reshape c to a 4 x 3 array\n",
    "reshape_c = np.reshape(c, (4,3))\n",
    "print(reshape_c)"
   ]
  },
  {
   "cell_type": "markdown",
   "metadata": {},
   "source": [
    "## reshape is the wrap text of re-ordering!"
   ]
  },
  {
   "cell_type": "markdown",
   "metadata": {},
   "source": [
    "#### 7) Perform an element-wise multiplication of the reshaped c and transposed c"
   ]
  },
  {
   "cell_type": "code",
   "execution_count": 28,
   "metadata": {},
   "outputs": [
    {
     "name": "stdout",
     "output_type": "stream",
     "text": [
      "[[  1  10  27]\n",
      " [  8  30  60]\n",
      " [ 21  56  99]\n",
      " [ 40  88 144]]\n"
     ]
    }
   ],
   "source": [
    "# Perform an element-wise multiplication of the reshaped c and transposed c\n",
    "element_wise = reshape_c * transpose_c\n",
    "print(element_wise)"
   ]
  },
  {
   "cell_type": "markdown",
   "metadata": {},
   "source": [
    "### Random\n",
    "Random number generation plays a crucial role in configuring and evaluating many numerical and machine learning algorithms. Whether it's for randomly initializing weights in a neural network, splitting data into random subsets, or shuffling a dataset, the ability to generate random numbers (specifically repeatable pseudo-random numbers) is vital."
   ]
  },
  {
   "cell_type": "markdown",
   "metadata": {},
   "source": [
    "#### 8) Create a half hourly power profile for 1 year filled with random numbers between 0 and 50"
   ]
  },
  {
   "cell_type": "code",
   "execution_count": 40,
   "metadata": {},
   "outputs": [
    {
     "name": "stdout",
     "output_type": "stream",
     "text": [
      "[20.9882344  25.64582366 40.82520592 ... 45.25738404 21.35104112\n",
      " 22.83943387]\n"
     ]
    }
   ],
   "source": [
    "# create a half hourly power profile for 1 year filled with random numbers between 0 and 50\n",
    "half_hour = np.random.uniform(0, 50, size=(48*365))\n",
    "print(half_hour)"
   ]
  },
  {
   "cell_type": "markdown",
   "metadata": {},
   "source": [
    "#### 9) Reshape the array into daily half hour profiles"
   ]
  },
  {
   "cell_type": "code",
   "execution_count": 41,
   "metadata": {},
   "outputs": [
    {
     "name": "stdout",
     "output_type": "stream",
     "text": [
      "[[20.9882344  25.64582366 40.82520592 ... 19.7781486  15.44674883\n",
      "  27.11208816]\n",
      " [ 2.54971507  9.17082391 11.17097333 ... 32.15107476  0.44253134\n",
      "  30.01621384]\n",
      " [19.95346601  8.42801416 25.3222701  ...  8.62585483 14.49261329\n",
      "  24.10537135]\n",
      " ...\n",
      " [46.37568634 34.24683675 17.20995213 ... 34.54703549 33.21708302\n",
      "  19.00342772]\n",
      " [39.44347243 38.16839894 43.13274431 ... 10.873568   38.49097314\n",
      "   6.99210653]\n",
      " [ 2.87965716 33.66604745 39.7236598  ... 45.25738404 21.35104112\n",
      "  22.83943387]]\n"
     ]
    }
   ],
   "source": [
    "# reshape the array into daily half hour profiles\n",
    "forty8 = np.reshape(half_hour, (48,365))\n",
    "#forty8 = np.reshape(half_hour, (48,-1)) <- if you don't know how many hours there are\n",
    "\n",
    "print(forty8)"
   ]
  },
  {
   "cell_type": "markdown",
   "metadata": {},
   "source": [
    "#### 10) convert this array to energy"
   ]
  },
  {
   "cell_type": "code",
   "execution_count": 37,
   "metadata": {},
   "outputs": [
    {
     "name": "stdout",
     "output_type": "stream",
     "text": [
      "[[15.73331079  0.46581567  9.36245973 ... 16.65988984  4.07132141\n",
      "  16.71915271]\n",
      " [15.48542072 20.05102879 23.93040298 ... 11.19163161 23.46100242\n",
      "  21.41814584]\n",
      " [18.9577771   3.18341604 11.05804431 ... 11.45585232  7.52166774\n",
      "  14.96715045]\n",
      " ...\n",
      " [13.56740603 23.21774009  4.01358539 ...  9.23061254 14.51264192\n",
      "   5.60674649]\n",
      " [ 9.16444389 22.37336694 15.7932582  ... 21.13430718  5.93356245\n",
      "   0.76182992]\n",
      " [ 8.54060967 15.67724712 20.9462793  ... 23.88054602  7.2527558\n",
      "  13.41349839]]\n"
     ]
    }
   ],
   "source": [
    "# convert to energy\n",
    "en48 = forty8/2\n",
    "print(en48)"
   ]
  },
  {
   "cell_type": "markdown",
   "metadata": {},
   "source": [
    "  \n",
    "#### Animation and Code Sources  \n",
    "\n",
    "Numpy GIF: <a href=\"https://matteding.github.io/images/broadcasting-3d-scalar.gif\">Matt Eding</a>  \n"
   ]
  },
  {
   "cell_type": "code",
   "execution_count": null,
   "metadata": {},
   "outputs": [],
   "source": []
  },
  {
   "cell_type": "code",
   "execution_count": null,
   "metadata": {},
   "outputs": [],
   "source": []
  }
 ],
 "metadata": {
  "anaconda-cloud": {},
  "kernelspec": {
   "display_name": "my_first_env",
   "language": "python",
   "name": "python3"
  },
  "language_info": {
   "codemirror_mode": {
    "name": "ipython",
    "version": 3
   },
   "file_extension": ".py",
   "mimetype": "text/x-python",
   "name": "python",
   "nbconvert_exporter": "python",
   "pygments_lexer": "ipython3",
   "version": "3.12.12"
  }
 },
 "nbformat": 4,
 "nbformat_minor": 4
}
